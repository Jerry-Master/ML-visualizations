{
 "cells": [
  {
   "cell_type": "markdown",
   "metadata": {},
   "source": [
    "## NeuralNetwork class \n",
    "\n",
    "Here we are going to develop a class to generate Neural Networks with a personalized size (i.e. #of layers, #neurons per layer)"
   ]
  },
  {
   "cell_type": "code",
   "execution_count": 224,
   "metadata": {},
   "outputs": [],
   "source": [
    "import torch\n",
    "import torch.nn as nn\n",
    "import torch.nn.functional as F\n",
    "import torch.optim as optim"
   ]
  },
  {
   "cell_type": "code",
   "execution_count": 225,
   "metadata": {},
   "outputs": [],
   "source": [
    "# a simple function that takes a list of different dimensional tensors and returns a list of means preserving the 1st dimension\n",
    "# maybe the name is not the best, please change it like tensorListMean or something like this.\n",
    "def tensorMean(l):\n",
    "    result = []\n",
    "    for t in l:\n",
    "        result.append(t.mean(0))\n",
    "    return result"
   ]
  },
  {
   "cell_type": "code",
   "execution_count": 226,
   "metadata": {},
   "outputs": [],
   "source": [
    "class NeuralNetwork(nn.Module):\n",
    "    # layers and nNeurons includes the input layer and its size\n",
    "    def __init__(self, nNeurons):\n",
    "        super(NeuralNetwork, self).__init__()\n",
    "        self.nNeurons = nNeurons # list representing the number of neurons per layer\n",
    "        \n",
    "        # weights\n",
    "        self.W = nn.Sequential()\n",
    "        for i in range(len(self.nNeurons)-1):\n",
    "            self.W.add_module(\"l\"+str(i),nn.Linear(nNeurons[i], nNeurons[i+1]))\n",
    "        \n",
    "    def forward(self, X):\n",
    "        x = X\n",
    "        for i in range(len(self.nNeurons)-1):\n",
    "            x = F.relu(self.W[i](x))\n",
    "        return x\n",
    "    \n",
    "    # returns the values of all the activations for each observation in X\n",
    "    def forward_allsteps(self, X):\n",
    "        act = [X]\n",
    "        x = X\n",
    "        for i in range(len(self.nNeurons)-1):\n",
    "            x = F.relu(self.W[i](x))\n",
    "            act.append(x)\n",
    "        return act\n",
    "    \n",
    "    # returns the mean of the activations when feed with X\n",
    "    def forward_mean_allsteps(self, X):\n",
    "        act = self.forward_allsteps(X)\n",
    "        return tensorMean(act)\n",
    "    \n",
    "    \n",
    "    def backward(self, X, y, o):\n",
    "        # this lines should go in some kind of global space\n",
    "        criterion = nn.MSELoss()\n",
    "        optimizer = optim.SGD(self.parameters(), lr=0.001, momentum=0.9)\n",
    "        # ---\n",
    "        # Reset gradient\n",
    "        # optimizer.zero_grad() ?\n",
    "        loss = criterion(o, y)\n",
    "        loss.backward()\n",
    "        optimizer.step()\n",
    "    \n",
    "    def backward_step(self, X, y, o):\n",
    "        criterion = nn.MSELoss(reduction='sum')\n",
    "        optimizer = optim.SGD(self.parameters(), lr=0.001, momentum=0.9)\n",
    "        loss = criterion(o, y)\n",
    "        print(self.W.grad_fn)\n",
    "    \n",
    "    def train(self, X, y):\n",
    "        # forward + backward pass for training\n",
    "        o = self.forward(X)\n",
    "        self.backward(X, y, o)\n",
    "        \n",
    "    def saveWeights(self, model):\n",
    "        # we will use the PyTorch internal storage functions\n",
    "        torch.save(model, \"NN\")\n",
    "        # you can reload model with all the weights and so forth with:\n",
    "        # torch.load(\"NN\")\n",
    "        \n",
    "    def predict(self, xPredicted):\n",
    "        print (\"Predicted data based on trained weights: \")\n",
    "        print (\"Input (scaled): \\n\" + str(xPredicted))\n",
    "        print (\"Output: \\n\" + str(self.forward(xPredicted)))"
   ]
  },
  {
   "cell_type": "markdown",
   "metadata": {},
   "source": [
    "### Testing with data"
   ]
  },
  {
   "cell_type": "code",
   "execution_count": 227,
   "metadata": {},
   "outputs": [],
   "source": [
    "import pandas as pd\n",
    "data = pd.read_csv(\"reg_data.csv\")\n",
    "X = torch.tensor(data.values[:,0:2], dtype = torch.float)\n",
    "y = torch.tensor(data.values[:,2:3], dtype = torch.float)"
   ]
  },
  {
   "cell_type": "code",
   "execution_count": 240,
   "metadata": {},
   "outputs": [],
   "source": [
    "NN = NeuralNetwork([2,3,1])"
   ]
  },
  {
   "cell_type": "code",
   "execution_count": 241,
   "metadata": {},
   "outputs": [],
   "source": [
    "for a in range(100):\n",
    "    NN.train(X, y)"
   ]
  },
  {
   "cell_type": "code",
   "execution_count": null,
   "metadata": {},
   "outputs": [],
   "source": []
  }
 ],
 "metadata": {
  "kernelspec": {
   "display_name": "Python 3",
   "language": "python",
   "name": "python3"
  },
  "language_info": {
   "codemirror_mode": {
    "name": "ipython",
    "version": 3
   },
   "file_extension": ".py",
   "mimetype": "text/x-python",
   "name": "python",
   "nbconvert_exporter": "python",
   "pygments_lexer": "ipython3",
   "version": "3.7.7"
  }
 },
 "nbformat": 4,
 "nbformat_minor": 2
}
